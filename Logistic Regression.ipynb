{
  "nbformat": 4,
  "nbformat_minor": 0,
  "metadata": {
    "colab": {
      "name": "NLP_tgs.ipynb",
      "provenance": []
    },
    "kernelspec": {
      "name": "python3",
      "display_name": "Python 3"
    }
  },
  "cells": [
    {
      "cell_type": "code",
      "metadata": {
        "id": "q-6jAR40VkEX"
      },
      "source": [
        "#PREPROCESSING (mounted data, install library, tokenize)"
      ],
      "execution_count": null,
      "outputs": []
    },
    {
      "cell_type": "code",
      "metadata": {
        "colab": {
          "base_uri": "https://localhost:8080/"
        },
        "id": "PAbwreNMVrf1",
        "outputId": "21e62db9-95c0-4529-d8be-1233ec9ee3e9"
      },
      "source": [
        "from google.colab import drive\n",
        "drive.mount('/content/gdrive')"
      ],
      "execution_count": null,
      "outputs": [
        {
          "output_type": "stream",
          "text": [
            "Mounted at /content/gdrive\n"
          ],
          "name": "stdout"
        }
      ]
    },
    {
      "cell_type": "code",
      "metadata": {
        "colab": {
          "base_uri": "https://localhost:8080/"
        },
        "id": "MRRrpfutV5NO",
        "outputId": "83b1baf4-0c3d-4638-f568-df162a5f799c"
      },
      "source": [
        "# Install Library\n",
        "!pip install vaderSentiment"
      ],
      "execution_count": null,
      "outputs": [
        {
          "output_type": "stream",
          "text": [
            "Collecting vaderSentiment\n",
            "\u001b[?25l  Downloading https://files.pythonhosted.org/packages/76/fc/310e16254683c1ed35eeb97386986d6c00bc29df17ce280aed64d55537e9/vaderSentiment-3.3.2-py2.py3-none-any.whl (125kB)\n",
            "\r\u001b[K     |██▋                             | 10kB 17.4MB/s eta 0:00:01\r\u001b[K     |█████▏                          | 20kB 23.2MB/s eta 0:00:01\r\u001b[K     |███████▉                        | 30kB 15.2MB/s eta 0:00:01\r\u001b[K     |██████████▍                     | 40kB 10.3MB/s eta 0:00:01\r\u001b[K     |█████████████                   | 51kB 5.1MB/s eta 0:00:01\r\u001b[K     |███████████████▋                | 61kB 5.7MB/s eta 0:00:01\r\u001b[K     |██████████████████▏             | 71kB 6.0MB/s eta 0:00:01\r\u001b[K     |████████████████████▉           | 81kB 6.5MB/s eta 0:00:01\r\u001b[K     |███████████████████████▍        | 92kB 6.5MB/s eta 0:00:01\r\u001b[K     |██████████████████████████      | 102kB 6.8MB/s eta 0:00:01\r\u001b[K     |████████████████████████████▋   | 112kB 6.8MB/s eta 0:00:01\r\u001b[K     |███████████████████████████████▏| 122kB 6.8MB/s eta 0:00:01\r\u001b[K     |████████████████████████████████| 133kB 6.8MB/s \n",
            "\u001b[?25hRequirement already satisfied: requests in /usr/local/lib/python3.6/dist-packages (from vaderSentiment) (2.23.0)\n",
            "Requirement already satisfied: chardet<4,>=3.0.2 in /usr/local/lib/python3.6/dist-packages (from requests->vaderSentiment) (3.0.4)\n",
            "Requirement already satisfied: idna<3,>=2.5 in /usr/local/lib/python3.6/dist-packages (from requests->vaderSentiment) (2.10)\n",
            "Requirement already satisfied: certifi>=2017.4.17 in /usr/local/lib/python3.6/dist-packages (from requests->vaderSentiment) (2020.11.8)\n",
            "Requirement already satisfied: urllib3!=1.25.0,!=1.25.1,<1.26,>=1.21.1 in /usr/local/lib/python3.6/dist-packages (from requests->vaderSentiment) (1.24.3)\n",
            "Installing collected packages: vaderSentiment\n",
            "Successfully installed vaderSentiment-3.3.2\n"
          ],
          "name": "stdout"
        }
      ]
    },
    {
      "cell_type": "code",
      "metadata": {
        "colab": {
          "base_uri": "https://localhost:8080/"
        },
        "id": "IZuIfhsDV6-y",
        "outputId": "e69a057d-61cb-4bac-e17e-73ee7aa5020e"
      },
      "source": [
        "# Import Library\n",
        "import pandas as pd\n",
        "from nltk.sentiment.vader import SentimentIntensityAnalyzer\n",
        "import nltk"
      ],
      "execution_count": null,
      "outputs": [
        {
          "output_type": "stream",
          "text": [
            "/usr/local/lib/python3.6/dist-packages/nltk/twitter/__init__.py:20: UserWarning: The twython library has not been installed. Some functionality from the twitter package will not be available.\n",
            "  warnings.warn(\"The twython library has not been installed. \"\n"
          ],
          "name": "stderr"
        }
      ]
    },
    {
      "cell_type": "code",
      "metadata": {
        "colab": {
          "base_uri": "https://localhost:8080/"
        },
        "id": "Tr8jk19SV9RY",
        "outputId": "1777443f-57b1-4d4f-e59b-fa27f5000713"
      },
      "source": [
        "pip install nltk"
      ],
      "execution_count": null,
      "outputs": [
        {
          "output_type": "stream",
          "text": [
            "Requirement already satisfied: nltk in /usr/local/lib/python3.6/dist-packages (3.2.5)\n",
            "Requirement already satisfied: six in /usr/local/lib/python3.6/dist-packages (from nltk) (1.15.0)\n"
          ],
          "name": "stdout"
        }
      ]
    },
    {
      "cell_type": "code",
      "metadata": {
        "colab": {
          "resources": {
            "http://localhost:8080/nbextensions/google.colab/files.js": {
              "data": "Ly8gQ29weXJpZ2h0IDIwMTcgR29vZ2xlIExMQwovLwovLyBMaWNlbnNlZCB1bmRlciB0aGUgQXBhY2hlIExpY2Vuc2UsIFZlcnNpb24gMi4wICh0aGUgIkxpY2Vuc2UiKTsKLy8geW91IG1heSBub3QgdXNlIHRoaXMgZmlsZSBleGNlcHQgaW4gY29tcGxpYW5jZSB3aXRoIHRoZSBMaWNlbnNlLgovLyBZb3UgbWF5IG9idGFpbiBhIGNvcHkgb2YgdGhlIExpY2Vuc2UgYXQKLy8KLy8gICAgICBodHRwOi8vd3d3LmFwYWNoZS5vcmcvbGljZW5zZXMvTElDRU5TRS0yLjAKLy8KLy8gVW5sZXNzIHJlcXVpcmVkIGJ5IGFwcGxpY2FibGUgbGF3IG9yIGFncmVlZCB0byBpbiB3cml0aW5nLCBzb2Z0d2FyZQovLyBkaXN0cmlidXRlZCB1bmRlciB0aGUgTGljZW5zZSBpcyBkaXN0cmlidXRlZCBvbiBhbiAiQVMgSVMiIEJBU0lTLAovLyBXSVRIT1VUIFdBUlJBTlRJRVMgT1IgQ09ORElUSU9OUyBPRiBBTlkgS0lORCwgZWl0aGVyIGV4cHJlc3Mgb3IgaW1wbGllZC4KLy8gU2VlIHRoZSBMaWNlbnNlIGZvciB0aGUgc3BlY2lmaWMgbGFuZ3VhZ2UgZ292ZXJuaW5nIHBlcm1pc3Npb25zIGFuZAovLyBsaW1pdGF0aW9ucyB1bmRlciB0aGUgTGljZW5zZS4KCi8qKgogKiBAZmlsZW92ZXJ2aWV3IEhlbHBlcnMgZm9yIGdvb2dsZS5jb2xhYiBQeXRob24gbW9kdWxlLgogKi8KKGZ1bmN0aW9uKHNjb3BlKSB7CmZ1bmN0aW9uIHNwYW4odGV4dCwgc3R5bGVBdHRyaWJ1dGVzID0ge30pIHsKICBjb25zdCBlbGVtZW50ID0gZG9jdW1lbnQuY3JlYXRlRWxlbWVudCgnc3BhbicpOwogIGVsZW1lbnQudGV4dENvbnRlbnQgPSB0ZXh0OwogIGZvciAoY29uc3Qga2V5IG9mIE9iamVjdC5rZXlzKHN0eWxlQXR0cmlidXRlcykpIHsKICAgIGVsZW1lbnQuc3R5bGVba2V5XSA9IHN0eWxlQXR0cmlidXRlc1trZXldOwogIH0KICByZXR1cm4gZWxlbWVudDsKfQoKLy8gTWF4IG51bWJlciBvZiBieXRlcyB3aGljaCB3aWxsIGJlIHVwbG9hZGVkIGF0IGEgdGltZS4KY29uc3QgTUFYX1BBWUxPQURfU0laRSA9IDEwMCAqIDEwMjQ7CgpmdW5jdGlvbiBfdXBsb2FkRmlsZXMoaW5wdXRJZCwgb3V0cHV0SWQpIHsKICBjb25zdCBzdGVwcyA9IHVwbG9hZEZpbGVzU3RlcChpbnB1dElkLCBvdXRwdXRJZCk7CiAgY29uc3Qgb3V0cHV0RWxlbWVudCA9IGRvY3VtZW50LmdldEVsZW1lbnRCeUlkKG91dHB1dElkKTsKICAvLyBDYWNoZSBzdGVwcyBvbiB0aGUgb3V0cHV0RWxlbWVudCB0byBtYWtlIGl0IGF2YWlsYWJsZSBmb3IgdGhlIG5leHQgY2FsbAogIC8vIHRvIHVwbG9hZEZpbGVzQ29udGludWUgZnJvbSBQeXRob24uCiAgb3V0cHV0RWxlbWVudC5zdGVwcyA9IHN0ZXBzOwoKICByZXR1cm4gX3VwbG9hZEZpbGVzQ29udGludWUob3V0cHV0SWQpOwp9CgovLyBUaGlzIGlzIHJvdWdobHkgYW4gYXN5bmMgZ2VuZXJhdG9yIChub3Qgc3VwcG9ydGVkIGluIHRoZSBicm93c2VyIHlldCksCi8vIHdoZXJlIHRoZXJlIGFyZSBtdWx0aXBsZSBhc3luY2hyb25vdXMgc3RlcHMgYW5kIHRoZSBQeXRob24gc2lkZSBpcyBnb2luZwovLyB0byBwb2xsIGZvciBjb21wbGV0aW9uIG9mIGVhY2ggc3RlcC4KLy8gVGhpcyB1c2VzIGEgUHJvbWlzZSB0byBibG9jayB0aGUgcHl0aG9uIHNpZGUgb24gY29tcGxldGlvbiBvZiBlYWNoIHN0ZXAsCi8vIHRoZW4gcGFzc2VzIHRoZSByZXN1bHQgb2YgdGhlIHByZXZpb3VzIHN0ZXAgYXMgdGhlIGlucHV0IHRvIHRoZSBuZXh0IHN0ZXAuCmZ1bmN0aW9uIF91cGxvYWRGaWxlc0NvbnRpbnVlKG91dHB1dElkKSB7CiAgY29uc3Qgb3V0cHV0RWxlbWVudCA9IGRvY3VtZW50LmdldEVsZW1lbnRCeUlkKG91dHB1dElkKTsKICBjb25zdCBzdGVwcyA9IG91dHB1dEVsZW1lbnQuc3RlcHM7CgogIGNvbnN0IG5leHQgPSBzdGVwcy5uZXh0KG91dHB1dEVsZW1lbnQubGFzdFByb21pc2VWYWx1ZSk7CiAgcmV0dXJuIFByb21pc2UucmVzb2x2ZShuZXh0LnZhbHVlLnByb21pc2UpLnRoZW4oKHZhbHVlKSA9PiB7CiAgICAvLyBDYWNoZSB0aGUgbGFzdCBwcm9taXNlIHZhbHVlIHRvIG1ha2UgaXQgYXZhaWxhYmxlIHRvIHRoZSBuZXh0CiAgICAvLyBzdGVwIG9mIHRoZSBnZW5lcmF0b3IuCiAgICBvdXRwdXRFbGVtZW50Lmxhc3RQcm9taXNlVmFsdWUgPSB2YWx1ZTsKICAgIHJldHVybiBuZXh0LnZhbHVlLnJlc3BvbnNlOwogIH0pOwp9CgovKioKICogR2VuZXJhdG9yIGZ1bmN0aW9uIHdoaWNoIGlzIGNhbGxlZCBiZXR3ZWVuIGVhY2ggYXN5bmMgc3RlcCBvZiB0aGUgdXBsb2FkCiAqIHByb2Nlc3MuCiAqIEBwYXJhbSB7c3RyaW5nfSBpbnB1dElkIEVsZW1lbnQgSUQgb2YgdGhlIGlucHV0IGZpbGUgcGlja2VyIGVsZW1lbnQuCiAqIEBwYXJhbSB7c3RyaW5nfSBvdXRwdXRJZCBFbGVtZW50IElEIG9mIHRoZSBvdXRwdXQgZGlzcGxheS4KICogQHJldHVybiB7IUl0ZXJhYmxlPCFPYmplY3Q+fSBJdGVyYWJsZSBvZiBuZXh0IHN0ZXBzLgogKi8KZnVuY3Rpb24qIHVwbG9hZEZpbGVzU3RlcChpbnB1dElkLCBvdXRwdXRJZCkgewogIGNvbnN0IGlucHV0RWxlbWVudCA9IGRvY3VtZW50LmdldEVsZW1lbnRCeUlkKGlucHV0SWQpOwogIGlucHV0RWxlbWVudC5kaXNhYmxlZCA9IGZhbHNlOwoKICBjb25zdCBvdXRwdXRFbGVtZW50ID0gZG9jdW1lbnQuZ2V0RWxlbWVudEJ5SWQob3V0cHV0SWQpOwogIG91dHB1dEVsZW1lbnQuaW5uZXJIVE1MID0gJyc7CgogIGNvbnN0IHBpY2tlZFByb21pc2UgPSBuZXcgUHJvbWlzZSgocmVzb2x2ZSkgPT4gewogICAgaW5wdXRFbGVtZW50LmFkZEV2ZW50TGlzdGVuZXIoJ2NoYW5nZScsIChlKSA9PiB7CiAgICAgIHJlc29sdmUoZS50YXJnZXQuZmlsZXMpOwogICAgfSk7CiAgfSk7CgogIGNvbnN0IGNhbmNlbCA9IGRvY3VtZW50LmNyZWF0ZUVsZW1lbnQoJ2J1dHRvbicpOwogIGlucHV0RWxlbWVudC5wYXJlbnRFbGVtZW50LmFwcGVuZENoaWxkKGNhbmNlbCk7CiAgY2FuY2VsLnRleHRDb250ZW50ID0gJ0NhbmNlbCB1cGxvYWQnOwogIGNvbnN0IGNhbmNlbFByb21pc2UgPSBuZXcgUHJvbWlzZSgocmVzb2x2ZSkgPT4gewogICAgY2FuY2VsLm9uY2xpY2sgPSAoKSA9PiB7CiAgICAgIHJlc29sdmUobnVsbCk7CiAgICB9OwogIH0pOwoKICAvLyBXYWl0IGZvciB0aGUgdXNlciB0byBwaWNrIHRoZSBmaWxlcy4KICBjb25zdCBmaWxlcyA9IHlpZWxkIHsKICAgIHByb21pc2U6IFByb21pc2UucmFjZShbcGlja2VkUHJvbWlzZSwgY2FuY2VsUHJvbWlzZV0pLAogICAgcmVzcG9uc2U6IHsKICAgICAgYWN0aW9uOiAnc3RhcnRpbmcnLAogICAgfQogIH07CgogIGNhbmNlbC5yZW1vdmUoKTsKCiAgLy8gRGlzYWJsZSB0aGUgaW5wdXQgZWxlbWVudCBzaW5jZSBmdXJ0aGVyIHBpY2tzIGFyZSBub3QgYWxsb3dlZC4KICBpbnB1dEVsZW1lbnQuZGlzYWJsZWQgPSB0cnVlOwoKICBpZiAoIWZpbGVzKSB7CiAgICByZXR1cm4gewogICAgICByZXNwb25zZTogewogICAgICAgIGFjdGlvbjogJ2NvbXBsZXRlJywKICAgICAgfQogICAgfTsKICB9CgogIGZvciAoY29uc3QgZmlsZSBvZiBmaWxlcykgewogICAgY29uc3QgbGkgPSBkb2N1bWVudC5jcmVhdGVFbGVtZW50KCdsaScpOwogICAgbGkuYXBwZW5kKHNwYW4oZmlsZS5uYW1lLCB7Zm9udFdlaWdodDogJ2JvbGQnfSkpOwogICAgbGkuYXBwZW5kKHNwYW4oCiAgICAgICAgYCgke2ZpbGUudHlwZSB8fCAnbi9hJ30pIC0gJHtmaWxlLnNpemV9IGJ5dGVzLCBgICsKICAgICAgICBgbGFzdCBtb2RpZmllZDogJHsKICAgICAgICAgICAgZmlsZS5sYXN0TW9kaWZpZWREYXRlID8gZmlsZS5sYXN0TW9kaWZpZWREYXRlLnRvTG9jYWxlRGF0ZVN0cmluZygpIDoKICAgICAgICAgICAgICAgICAgICAgICAgICAgICAgICAgICAgJ24vYSd9IC0gYCkpOwogICAgY29uc3QgcGVyY2VudCA9IHNwYW4oJzAlIGRvbmUnKTsKICAgIGxpLmFwcGVuZENoaWxkKHBlcmNlbnQpOwoKICAgIG91dHB1dEVsZW1lbnQuYXBwZW5kQ2hpbGQobGkpOwoKICAgIGNvbnN0IGZpbGVEYXRhUHJvbWlzZSA9IG5ldyBQcm9taXNlKChyZXNvbHZlKSA9PiB7CiAgICAgIGNvbnN0IHJlYWRlciA9IG5ldyBGaWxlUmVhZGVyKCk7CiAgICAgIHJlYWRlci5vbmxvYWQgPSAoZSkgPT4gewogICAgICAgIHJlc29sdmUoZS50YXJnZXQucmVzdWx0KTsKICAgICAgfTsKICAgICAgcmVhZGVyLnJlYWRBc0FycmF5QnVmZmVyKGZpbGUpOwogICAgfSk7CiAgICAvLyBXYWl0IGZvciB0aGUgZGF0YSB0byBiZSByZWFkeS4KICAgIGxldCBmaWxlRGF0YSA9IHlpZWxkIHsKICAgICAgcHJvbWlzZTogZmlsZURhdGFQcm9taXNlLAogICAgICByZXNwb25zZTogewogICAgICAgIGFjdGlvbjogJ2NvbnRpbnVlJywKICAgICAgfQogICAgfTsKCiAgICAvLyBVc2UgYSBjaHVua2VkIHNlbmRpbmcgdG8gYXZvaWQgbWVzc2FnZSBzaXplIGxpbWl0cy4gU2VlIGIvNjIxMTU2NjAuCiAgICBsZXQgcG9zaXRpb24gPSAwOwogICAgd2hpbGUgKHBvc2l0aW9uIDwgZmlsZURhdGEuYnl0ZUxlbmd0aCkgewogICAgICBjb25zdCBsZW5ndGggPSBNYXRoLm1pbihmaWxlRGF0YS5ieXRlTGVuZ3RoIC0gcG9zaXRpb24sIE1BWF9QQVlMT0FEX1NJWkUpOwogICAgICBjb25zdCBjaHVuayA9IG5ldyBVaW50OEFycmF5KGZpbGVEYXRhLCBwb3NpdGlvbiwgbGVuZ3RoKTsKICAgICAgcG9zaXRpb24gKz0gbGVuZ3RoOwoKICAgICAgY29uc3QgYmFzZTY0ID0gYnRvYShTdHJpbmcuZnJvbUNoYXJDb2RlLmFwcGx5KG51bGwsIGNodW5rKSk7CiAgICAgIHlpZWxkIHsKICAgICAgICByZXNwb25zZTogewogICAgICAgICAgYWN0aW9uOiAnYXBwZW5kJywKICAgICAgICAgIGZpbGU6IGZpbGUubmFtZSwKICAgICAgICAgIGRhdGE6IGJhc2U2NCwKICAgICAgICB9LAogICAgICB9OwogICAgICBwZXJjZW50LnRleHRDb250ZW50ID0KICAgICAgICAgIGAke01hdGgucm91bmQoKHBvc2l0aW9uIC8gZmlsZURhdGEuYnl0ZUxlbmd0aCkgKiAxMDApfSUgZG9uZWA7CiAgICB9CiAgfQoKICAvLyBBbGwgZG9uZS4KICB5aWVsZCB7CiAgICByZXNwb25zZTogewogICAgICBhY3Rpb246ICdjb21wbGV0ZScsCiAgICB9CiAgfTsKfQoKc2NvcGUuZ29vZ2xlID0gc2NvcGUuZ29vZ2xlIHx8IHt9OwpzY29wZS5nb29nbGUuY29sYWIgPSBzY29wZS5nb29nbGUuY29sYWIgfHwge307CnNjb3BlLmdvb2dsZS5jb2xhYi5fZmlsZXMgPSB7CiAgX3VwbG9hZEZpbGVzLAogIF91cGxvYWRGaWxlc0NvbnRpbnVlLAp9Owp9KShzZWxmKTsK",
              "ok": true,
              "headers": [
                [
                  "content-type",
                  "application/javascript"
                ]
              ],
              "status": 200,
              "status_text": ""
            }
          },
          "base_uri": "https://localhost:8080/",
          "height": 89
        },
        "id": "PVmbm-WlWCo5",
        "outputId": "7a7d2597-c588-438c-fff3-fddfc28b39ca"
      },
      "source": [
        "from google.colab import files\n",
        "files.upload()"
      ],
      "execution_count": null,
      "outputs": [
        {
          "output_type": "display_data",
          "data": {
            "text/html": [
              "\n",
              "     <input type=\"file\" id=\"files-b4c164a2-ac75-4f77-8987-1f263cee0fe4\" name=\"files[]\" multiple disabled\n",
              "        style=\"border:none\" />\n",
              "     <output id=\"result-b4c164a2-ac75-4f77-8987-1f263cee0fe4\">\n",
              "      Upload widget is only available when the cell has been executed in the\n",
              "      current browser session. Please rerun this cell to enable.\n",
              "      </output>\n",
              "      <script src=\"/nbextensions/google.colab/files.js\"></script> "
            ],
            "text/plain": [
              "<IPython.core.display.HTML object>"
            ]
          },
          "metadata": {
            "tags": []
          }
        },
        {
          "output_type": "stream",
          "text": [
            "Saving kaggle.json to kaggle.json\n"
          ],
          "name": "stdout"
        },
        {
          "output_type": "execute_result",
          "data": {
            "text/plain": [
              "{'kaggle.json': b'{\"username\":\"anisajelita\",\"key\":\"496d852f0c82bf5a658fc4f72ecdd592\"}'}"
            ]
          },
          "metadata": {
            "tags": []
          },
          "execution_count": 5
        }
      ]
    },
    {
      "cell_type": "code",
      "metadata": {
        "id": "NUDQt4B5WL8M"
      },
      "source": [
        "!mkdir -p ~/.kaggle\n",
        "!cp kaggle.json ~/.kaggle/\n",
        "!chmod 600 ~/.kaggle/kaggle.json"
      ],
      "execution_count": null,
      "outputs": []
    },
    {
      "cell_type": "code",
      "metadata": {
        "colab": {
          "base_uri": "https://localhost:8080/"
        },
        "id": "LRLxRsSlWQsr",
        "outputId": "32c07512-c699-4c75-8328-a6500843d12b"
      },
      "source": [
        "#intall dataset\n",
        "!kaggle datasets download -d gapple/goodreads-book-reviews-20k"
      ],
      "execution_count": null,
      "outputs": [
        {
          "output_type": "stream",
          "text": [
            "goodreads-book-reviews-20k.zip: Skipping, found more recently modified local copy (use --force to force download)\n"
          ],
          "name": "stdout"
        }
      ]
    },
    {
      "cell_type": "code",
      "metadata": {
        "colab": {
          "base_uri": "https://localhost:8080/"
        },
        "id": "6OXNQjn1WS-b",
        "outputId": "f65b14a5-149f-405a-f2a1-ed9f5f518117"
      },
      "source": [
        "from zipfile import ZipFile\n",
        "file_name = \"goodreads-book-reviews-20k.zip\"\n",
        "with ZipFile(file_name,'r') as zip:\n",
        "  zip.extractall()\n",
        "  print('Selesai di ekstak')"
      ],
      "execution_count": null,
      "outputs": [
        {
          "output_type": "stream",
          "text": [
            "Selesai di ekstak\n"
          ],
          "name": "stdout"
        }
      ]
    },
    {
      "cell_type": "code",
      "metadata": {
        "colab": {
          "base_uri": "https://localhost:8080/"
        },
        "id": "LMncmZYRWYrs",
        "outputId": "fc0e2fe4-b1b9-45fc-e2e5-251a4d1c4b47"
      },
      "source": [
        "pip install xlrd"
      ],
      "execution_count": null,
      "outputs": [
        {
          "output_type": "stream",
          "text": [
            "Requirement already satisfied: xlrd in /usr/local/lib/python3.6/dist-packages (1.1.0)\n"
          ],
          "name": "stdout"
        }
      ]
    },
    {
      "cell_type": "code",
      "metadata": {
        "id": "-FBuzIqwWge5"
      },
      "source": [
        "import pandas as pd\n",
        "import numpy as np\n",
        "import matplotlib.pyplot as plt\n",
        "import seaborn as sns\n",
        "import re\n",
        "import string\n",
        "import time\n",
        "from sklearn.model_selection import train_test_split\n",
        "from nltk.corpus import stopwords\n",
        "from sklearn.feature_extraction.text import CountVectorizer, TfidfVectorizer\n",
        "from sklearn.linear_model import LogisticRegression\n",
        "from sklearn import metrics\n",
        "from nltk.stem import PorterStemmer\n",
        "from imblearn.over_sampling import RandomOverSampler\n",
        "from imblearn.under_sampling import RandomUnderSampler"
      ],
      "execution_count": null,
      "outputs": []
    },
    {
      "cell_type": "code",
      "metadata": {
        "colab": {
          "base_uri": "https://localhost:8080/",
          "height": 569
        },
        "id": "AqV5K5vvWjuS",
        "outputId": "d521b3f3-272f-44cf-b1dd-73921154b1af"
      },
      "source": [
        "import pandas as pd\n",
        "data1 = pd.read_excel('all_data.xlsx')\n",
        "data1.head()"
      ],
      "execution_count": null,
      "outputs": [
        {
          "output_type": "execute_result",
          "data": {
            "text/html": [
              "<div>\n",
              "<style scoped>\n",
              "    .dataframe tbody tr th:only-of-type {\n",
              "        vertical-align: middle;\n",
              "    }\n",
              "\n",
              "    .dataframe tbody tr th {\n",
              "        vertical-align: top;\n",
              "    }\n",
              "\n",
              "    .dataframe thead th {\n",
              "        text-align: right;\n",
              "    }\n",
              "</style>\n",
              "<table border=\"1\" class=\"dataframe\">\n",
              "  <thead>\n",
              "    <tr style=\"text-align: right;\">\n",
              "      <th></th>\n",
              "      <th>book_title</th>\n",
              "      <th>Book_series</th>\n",
              "      <th>book_series_url</th>\n",
              "      <th>book_image</th>\n",
              "      <th>book_image_url</th>\n",
              "      <th>book_rating</th>\n",
              "      <th>book_author</th>\n",
              "      <th>author_url</th>\n",
              "      <th>genre</th>\n",
              "      <th>reviewer_name</th>\n",
              "      <th>reviewer_url</th>\n",
              "      <th>reviewer_image</th>\n",
              "      <th>reviewer_image_url</th>\n",
              "      <th>review</th>\n",
              "      <th>ID</th>\n",
              "    </tr>\n",
              "  </thead>\n",
              "  <tbody>\n",
              "    <tr>\n",
              "      <th>0</th>\n",
              "      <td>A Court of Wings and Ruin</td>\n",
              "      <td>(A Court of Thorns and Roses #3)</td>\n",
              "      <td>https://www.goodreads.com/series/104014-a-cour...</td>\n",
              "      <td>https://images.gr-assets.com/books/1485528243l...</td>\n",
              "      <td>https://www.goodreads.com/book/photo/23766634-...</td>\n",
              "      <td>4.51</td>\n",
              "      <td>Sarah J. Maas</td>\n",
              "      <td>https://www.goodreads.com/author/show/3433047....</td>\n",
              "      <td>Fantasy, Romance, Young Adult, New Adult</td>\n",
              "      <td>emma</td>\n",
              "      <td>https://www.goodreads.com/user/show/32879029-emma</td>\n",
              "      <td>https://images.gr-assets.com/users/1520568130p...</td>\n",
              "      <td>https://www.goodreads.com/user/show/32879029-emma</td>\n",
              "      <td>202.\\nThatâ€™s the number of times that the wo...</td>\n",
              "      <td>1</td>\n",
              "    </tr>\n",
              "    <tr>\n",
              "      <th>1</th>\n",
              "      <td>A Court of Wings and Ruin</td>\n",
              "      <td>(A Court of Thorns and Roses #3)</td>\n",
              "      <td>https://www.goodreads.com/series/104014-a-cour...</td>\n",
              "      <td>https://images.gr-assets.com/books/1485528243l...</td>\n",
              "      <td>https://www.goodreads.com/book/photo/23766634-...</td>\n",
              "      <td>4.51</td>\n",
              "      <td>Sarah J. Maas</td>\n",
              "      <td>https://www.goodreads.com/author/show/3433047....</td>\n",
              "      <td>Fantasy, Romance, Young Adult, New Adult</td>\n",
              "      <td>Em (RunawayWithDreamthieves)</td>\n",
              "      <td>https://www.goodreads.com/user/show/42130592-e...</td>\n",
              "      <td>https://images.gr-assets.com/users/1538507799p...</td>\n",
              "      <td>https://www.goodreads.com/user/show/42130592-e...</td>\n",
              "      <td>I need a black silk robe and a balcony to wear...</td>\n",
              "      <td>2</td>\n",
              "    </tr>\n",
              "    <tr>\n",
              "      <th>2</th>\n",
              "      <td>A Court of Wings and Ruin</td>\n",
              "      <td>(A Court of Thorns and Roses #3)</td>\n",
              "      <td>https://www.goodreads.com/series/104014-a-cour...</td>\n",
              "      <td>https://images.gr-assets.com/books/1485528243l...</td>\n",
              "      <td>https://www.goodreads.com/book/photo/23766634-...</td>\n",
              "      <td>4.51</td>\n",
              "      <td>Sarah J. Maas</td>\n",
              "      <td>https://www.goodreads.com/author/show/3433047....</td>\n",
              "      <td>Fantasy, Romance, Young Adult, New Adult</td>\n",
              "      <td>Cait â€¢ A Page with a View</td>\n",
              "      <td>https://www.goodreads.com/user/show/47412532-c...</td>\n",
              "      <td>https://images.gr-assets.com/users/1523134490p...</td>\n",
              "      <td>https://www.goodreads.com/user/show/47412532-c...</td>\n",
              "      <td>THIS BOOK TOTALLY WRECKED ME. In the best poss...</td>\n",
              "      <td>3</td>\n",
              "    </tr>\n",
              "    <tr>\n",
              "      <th>3</th>\n",
              "      <td>A Court of Wings and Ruin</td>\n",
              "      <td>(A Court of Thorns and Roses #3)</td>\n",
              "      <td>https://www.goodreads.com/series/104014-a-cour...</td>\n",
              "      <td>https://images.gr-assets.com/books/1485528243l...</td>\n",
              "      <td>https://www.goodreads.com/book/photo/23766634-...</td>\n",
              "      <td>4.51</td>\n",
              "      <td>Sarah J. Maas</td>\n",
              "      <td>https://www.goodreads.com/author/show/3433047....</td>\n",
              "      <td>Fantasy, Romance, Young Adult, New Adult</td>\n",
              "      <td>Natalie Monroe</td>\n",
              "      <td>https://www.goodreads.com/user/show/6688207-na...</td>\n",
              "      <td>https://images.gr-assets.com/users/1339730817p...</td>\n",
              "      <td>https://www.goodreads.com/user/show/6688207-na...</td>\n",
              "      <td>3.75 stars\\n\"Rhys stepped off the stairs and t...</td>\n",
              "      <td>4</td>\n",
              "    </tr>\n",
              "    <tr>\n",
              "      <th>4</th>\n",
              "      <td>A Court of Wings and Ruin</td>\n",
              "      <td>(A Court of Thorns and Roses #3)</td>\n",
              "      <td>https://www.goodreads.com/series/104014-a-cour...</td>\n",
              "      <td>https://images.gr-assets.com/books/1485528243l...</td>\n",
              "      <td>https://www.goodreads.com/book/photo/23766634-...</td>\n",
              "      <td>4.51</td>\n",
              "      <td>Sarah J. Maas</td>\n",
              "      <td>https://www.goodreads.com/author/show/3433047....</td>\n",
              "      <td>Fantasy, Romance, Young Adult, New Adult</td>\n",
              "      <td>Emily May</td>\n",
              "      <td>https://www.goodreads.com/user/show/4622890-em...</td>\n",
              "      <td>https://images.gr-assets.com/users/1528390751p...</td>\n",
              "      <td>https://www.goodreads.com/user/show/4622890-em...</td>\n",
              "      <td>I wish so much that I could tell you I loved t...</td>\n",
              "      <td>5</td>\n",
              "    </tr>\n",
              "  </tbody>\n",
              "</table>\n",
              "</div>"
            ],
            "text/plain": [
              "                  book_title  ... ID\n",
              "0  A Court of Wings and Ruin  ...  1\n",
              "1  A Court of Wings and Ruin  ...  2\n",
              "2  A Court of Wings and Ruin  ...  3\n",
              "3  A Court of Wings and Ruin  ...  4\n",
              "4  A Court of Wings and Ruin  ...  5\n",
              "\n",
              "[5 rows x 15 columns]"
            ]
          },
          "metadata": {
            "tags": []
          },
          "execution_count": 34
        }
      ]
    },
    {
      "cell_type": "code",
      "metadata": {
        "colab": {
          "base_uri": "https://localhost:8080/",
          "height": 202
        },
        "id": "B20xY-4MWmyR",
        "outputId": "3e0a11bb-b567-452b-a871-e01c827e5aa1"
      },
      "source": [
        "data1 = data1[['review', 'book_rating']]\n",
        "data1.head()"
      ],
      "execution_count": null,
      "outputs": [
        {
          "output_type": "execute_result",
          "data": {
            "text/html": [
              "<div>\n",
              "<style scoped>\n",
              "    .dataframe tbody tr th:only-of-type {\n",
              "        vertical-align: middle;\n",
              "    }\n",
              "\n",
              "    .dataframe tbody tr th {\n",
              "        vertical-align: top;\n",
              "    }\n",
              "\n",
              "    .dataframe thead th {\n",
              "        text-align: right;\n",
              "    }\n",
              "</style>\n",
              "<table border=\"1\" class=\"dataframe\">\n",
              "  <thead>\n",
              "    <tr style=\"text-align: right;\">\n",
              "      <th></th>\n",
              "      <th>review</th>\n",
              "      <th>book_rating</th>\n",
              "    </tr>\n",
              "  </thead>\n",
              "  <tbody>\n",
              "    <tr>\n",
              "      <th>0</th>\n",
              "      <td>202.\\nThatâ€™s the number of times that the wo...</td>\n",
              "      <td>4.51</td>\n",
              "    </tr>\n",
              "    <tr>\n",
              "      <th>1</th>\n",
              "      <td>I need a black silk robe and a balcony to wear...</td>\n",
              "      <td>4.51</td>\n",
              "    </tr>\n",
              "    <tr>\n",
              "      <th>2</th>\n",
              "      <td>THIS BOOK TOTALLY WRECKED ME. In the best poss...</td>\n",
              "      <td>4.51</td>\n",
              "    </tr>\n",
              "    <tr>\n",
              "      <th>3</th>\n",
              "      <td>3.75 stars\\n\"Rhys stepped off the stairs and t...</td>\n",
              "      <td>4.51</td>\n",
              "    </tr>\n",
              "    <tr>\n",
              "      <th>4</th>\n",
              "      <td>I wish so much that I could tell you I loved t...</td>\n",
              "      <td>4.51</td>\n",
              "    </tr>\n",
              "  </tbody>\n",
              "</table>\n",
              "</div>"
            ],
            "text/plain": [
              "                                              review  book_rating\n",
              "0  202.\\nThatâ€™s the number of times that the wo...         4.51\n",
              "1  I need a black silk robe and a balcony to wear...         4.51\n",
              "2  THIS BOOK TOTALLY WRECKED ME. In the best poss...         4.51\n",
              "3  3.75 stars\\n\"Rhys stepped off the stairs and t...         4.51\n",
              "4  I wish so much that I could tell you I loved t...         4.51"
            ]
          },
          "metadata": {
            "tags": []
          },
          "execution_count": 36
        }
      ]
    },
    {
      "cell_type": "code",
      "metadata": {
        "id": "0-hoq-CPWoCd"
      },
      "source": [
        "review = data1['review'][4]"
      ],
      "execution_count": null,
      "outputs": []
    },
    {
      "cell_type": "code",
      "metadata": {
        "colab": {
          "base_uri": "https://localhost:8080/"
        },
        "id": "GEsCrQM-Wsf1",
        "outputId": "8d33c775-f1bf-4bc1-d3e5-927a3582440a"
      },
      "source": [
        "#tokenize\n",
        "import nltk\n",
        "nltk.download('punkt')"
      ],
      "execution_count": null,
      "outputs": [
        {
          "output_type": "stream",
          "text": [
            "[nltk_data] Downloading package punkt to /root/nltk_data...\n",
            "[nltk_data]   Unzipping tokenizers/punkt.zip.\n"
          ],
          "name": "stdout"
        },
        {
          "output_type": "execute_result",
          "data": {
            "text/plain": [
              "True"
            ]
          },
          "metadata": {
            "tags": []
          },
          "execution_count": 15
        }
      ]
    },
    {
      "cell_type": "code",
      "metadata": {
        "colab": {
          "base_uri": "https://localhost:8080/"
        },
        "id": "OwEysDM8WuSX",
        "outputId": "948341b4-d485-41fe-80cf-fdb3aa135b8c"
      },
      "source": [
        "nltk.word_tokenize(review)"
      ],
      "execution_count": null,
      "outputs": [
        {
          "output_type": "execute_result",
          "data": {
            "text/plain": [
              "['I',\n",
              " 'wish',\n",
              " 'so',\n",
              " 'much',\n",
              " 'that',\n",
              " 'I',\n",
              " 'could',\n",
              " 'tell',\n",
              " 'you',\n",
              " 'I',\n",
              " 'loved',\n",
              " 'this',\n",
              " 'book',\n",
              " '...',\n",
              " 'but',\n",
              " 'I',\n",
              " 'just',\n",
              " 'did',\n",
              " \"n't\",\n",
              " '.',\n",
              " 'After',\n",
              " 'thinking',\n",
              " 'A',\n",
              " 'Court',\n",
              " 'of',\n",
              " 'Mist',\n",
              " 'and',\n",
              " 'Fury',\n",
              " 'was',\n",
              " 'such',\n",
              " 'a',\n",
              " 'huge',\n",
              " 'improvement',\n",
              " 'from',\n",
              " 'A',\n",
              " 'Court',\n",
              " 'of',\n",
              " 'Thorns',\n",
              " 'and',\n",
              " 'Roses',\n",
              " ',',\n",
              " 'I',\n",
              " 'was',\n",
              " 'really',\n",
              " 'excited',\n",
              " 'for',\n",
              " 'this',\n",
              " 'third',\n",
              " 'installment',\n",
              " '.',\n",
              " 'I',\n",
              " 'even',\n",
              " 'preordered',\n",
              " 'it',\n",
              " '.',\n",
              " 'But',\n",
              " 'I',\n",
              " 'really',\n",
              " 'struggled',\n",
              " 'to',\n",
              " 'get',\n",
              " 'into',\n",
              " 'the',\n",
              " 'book',\n",
              " 'from',\n",
              " 'the',\n",
              " 'very',\n",
              " 'start',\n",
              " '.',\n",
              " 'From',\n",
              " 'pacing',\n",
              " 'issues',\n",
              " 'to',\n",
              " 'awkward',\n",
              " 'sex',\n",
              " 'scenes',\n",
              " 'that',\n",
              " 'did',\n",
              " 'nothing',\n",
              " 'for',\n",
              " 'me',\n",
              " ',',\n",
              " 'it',\n",
              " 'was',\n",
              " 'one',\n",
              " 'disappointment',\n",
              " 'after',\n",
              " 'another',\n",
              " '.',\n",
              " 'I',\n",
              " \"'ve\",\n",
              " 'said',\n",
              " 'this',\n",
              " 'before',\n",
              " 'but',\n",
              " 'I',\n",
              " 'really',\n",
              " 'dislike',\n",
              " 'Maas',\n",
              " \"'s\",\n",
              " 'sex',\n",
              " 'scenes',\n",
              " '.',\n",
              " 'At',\n",
              " 'her',\n",
              " 'best',\n",
              " ',',\n",
              " 'she',\n",
              " 'writes',\n",
              " 'them',\n",
              " 'strangely',\n",
              " 'with',\n",
              " 'words',\n",
              " 'like',\n",
              " '``',\n",
              " 'branding',\n",
              " \"''\",\n",
              " 'and',\n",
              " '``',\n",
              " 'claiming',\n",
              " \"''\",\n",
              " ',',\n",
              " 'but',\n",
              " 'here',\n",
              " 'they',\n",
              " 'were',\n",
              " 'just',\n",
              " 'plain',\n",
              " 'icky',\n",
              " '.',\n",
              " 'With',\n",
              " 'all',\n",
              " 'the',\n",
              " 'talk',\n",
              " 'of',\n",
              " '``',\n",
              " 'mates',\n",
              " \"''\",\n",
              " ',',\n",
              " '``',\n",
              " 'growling',\n",
              " \"''\",\n",
              " 'and',\n",
              " '``',\n",
              " 'purring',\n",
              " \"''\",\n",
              " ',',\n",
              " 'and',\n",
              " 'the',\n",
              " 'climaxing',\n",
              " 'from',\n",
              " 'stroking',\n",
              " 'one',\n",
              " 'another',\n",
              " \"'s\",\n",
              " 'wings',\n",
              " ',',\n",
              " 'I',\n",
              " 'felt',\n",
              " 'like',\n",
              " 'I',\n",
              " \"'d\",\n",
              " 'walked',\n",
              " 'in',\n",
              " 'on',\n",
              " 'two',\n",
              " 'animals',\n",
              " 'rutting',\n",
              " 'in',\n",
              " 'the',\n",
              " 'mud',\n",
              " '.',\n",
              " 'Ugh',\n",
              " '.',\n",
              " 'And',\n",
              " 'another',\n",
              " 'thing',\n",
              " '--',\n",
              " 'Feyre',\n",
              " 'and',\n",
              " 'Rhysand',\n",
              " 'are',\n",
              " 'already',\n",
              " 'mated',\n",
              " 'and',\n",
              " 'loved',\n",
              " 'up',\n",
              " 'to',\n",
              " 'their',\n",
              " 'eyeballs',\n",
              " 'so',\n",
              " 'there',\n",
              " 'was',\n",
              " 'no',\n",
              " 'sexual',\n",
              " 'tension',\n",
              " ',',\n",
              " 'no',\n",
              " 'will',\n",
              " 'they/wo',\n",
              " \"n't\",\n",
              " 'they',\n",
              " ',',\n",
              " 'which',\n",
              " 'made',\n",
              " 'the',\n",
              " 'sex',\n",
              " 'scenes',\n",
              " 'so',\n",
              " 'boring',\n",
              " '.',\n",
              " 'What',\n",
              " \"'s\",\n",
              " 'strange',\n",
              " 'about',\n",
              " 'these',\n",
              " 'sex',\n",
              " 'scenes',\n",
              " 'is',\n",
              " 'how',\n",
              " 'they',\n",
              " 'manage',\n",
              " 'to',\n",
              " 'somehow',\n",
              " 'be',\n",
              " 'both',\n",
              " 'graphic',\n",
              " 'and',\n",
              " 'coy',\n",
              " 'at',\n",
              " 'the',\n",
              " 'same',\n",
              " 'time',\n",
              " '.',\n",
              " 'Maas',\n",
              " 'never',\n",
              " 'actually',\n",
              " 'uses',\n",
              " 'explicit',\n",
              " 'words',\n",
              " '.',\n",
              " 'If',\n",
              " 'a',\n",
              " 'young',\n",
              " 'kid',\n",
              " 'picked',\n",
              " 'up',\n",
              " 'this',\n",
              " 'book',\n",
              " ',',\n",
              " 'they',\n",
              " 'might',\n",
              " 'assume',\n",
              " 'Rhysand',\n",
              " 'and',\n",
              " 'Feyre',\n",
              " 'were',\n",
              " 'dancing',\n",
              " 'or',\n",
              " 'playing',\n",
              " 'an',\n",
              " 'instrument',\n",
              " '.',\n",
              " 'His',\n",
              " 'touch',\n",
              " 'turned',\n",
              " 'different',\n",
              " '.',\n",
              " 'Exploring',\n",
              " '.',\n",
              " 'Broad',\n",
              " 'strokes',\n",
              " 'and',\n",
              " 'feather-light',\n",
              " 'ones',\n",
              " ',',\n",
              " 'arches',\n",
              " 'and',\n",
              " 'swirls',\n",
              " 'and',\n",
              " 'direct',\n",
              " ',',\n",
              " 'searing',\n",
              " 'lines',\n",
              " '.',\n",
              " 'And',\n",
              " 'her',\n",
              " 'vagina',\n",
              " 'is',\n",
              " 'usually',\n",
              " 'described',\n",
              " 'as',\n",
              " '``',\n",
              " 'there',\n",
              " \"''\",\n",
              " 'or',\n",
              " '``',\n",
              " 'where',\n",
              " 'I',\n",
              " 'want',\n",
              " 'him',\n",
              " \"''\",\n",
              " '.',\n",
              " 'Then',\n",
              " ',',\n",
              " 'at',\n",
              " 'the',\n",
              " 'same',\n",
              " 'time',\n",
              " ',',\n",
              " 'these',\n",
              " 'scenes',\n",
              " 'are',\n",
              " 'weirdly',\n",
              " 'overwritten',\n",
              " ',',\n",
              " 'with',\n",
              " 'her',\n",
              " 'orgasm',\n",
              " '(',\n",
              " 'obviously',\n",
              " 'not',\n",
              " 'called',\n",
              " 'that',\n",
              " ')',\n",
              " 'leaving',\n",
              " 'her',\n",
              " 'â€œskin',\n",
              " 'glowing',\n",
              " 'like',\n",
              " 'a',\n",
              " 'newborn',\n",
              " 'star',\n",
              " 'in',\n",
              " 'its',\n",
              " 'wakeâ€\\x9d',\n",
              " '.',\n",
              " 'It',\n",
              " \"'s\",\n",
              " 'just',\n",
              " 'really',\n",
              " 'not',\n",
              " 'my',\n",
              " 'thing',\n",
              " '.',\n",
              " 'I',\n",
              " 'was',\n",
              " 'disappointed',\n",
              " 'with',\n",
              " 'the',\n",
              " 'writing',\n",
              " 'in',\n",
              " 'general',\n",
              " ',',\n",
              " 'to',\n",
              " 'be',\n",
              " 'honest',\n",
              " '.',\n",
              " 'Maas',\n",
              " 'seemed',\n",
              " 'to',\n",
              " 'write',\n",
              " 'a',\n",
              " 'lot',\n",
              " 'more',\n",
              " '``',\n",
              " 'tell',\n",
              " \"''\",\n",
              " 'and',\n",
              " 'a',\n",
              " 'lot',\n",
              " 'less',\n",
              " '``',\n",
              " 'show',\n",
              " \"''\",\n",
              " 'than',\n",
              " 'usual',\n",
              " '.',\n",
              " 'I',\n",
              " 'was',\n",
              " 'especially',\n",
              " 'disappointed',\n",
              " 'at',\n",
              " 'the',\n",
              " 'wasted',\n",
              " 'opportunity',\n",
              " 'for',\n",
              " 'some',\n",
              " 'underhanded',\n",
              " 'manipulation',\n",
              " 'in',\n",
              " 'the',\n",
              " 'first',\n",
              " 'part',\n",
              " '.',\n",
              " 'After',\n",
              " 'how',\n",
              " 'the',\n",
              " 'last',\n",
              " 'book',\n",
              " 'ended',\n",
              " ',',\n",
              " 'Feyre',\n",
              " 'was',\n",
              " 'kind',\n",
              " 'of',\n",
              " '``',\n",
              " 'undercover',\n",
              " \"''\",\n",
              " 'at',\n",
              " 'the',\n",
              " 'start',\n",
              " 'and',\n",
              " 'in',\n",
              " 'a',\n",
              " 'position',\n",
              " 'for',\n",
              " 'lies',\n",
              " 'and',\n",
              " 'sneakiness',\n",
              " '.',\n",
              " 'Except',\n",
              " 'it',\n",
              " 'was',\n",
              " 'mostly',\n",
              " 'her',\n",
              " 'swanning',\n",
              " 'around',\n",
              " 'and',\n",
              " 'quietly',\n",
              " 'seething',\n",
              " 'to',\n",
              " 'herself',\n",
              " 'about',\n",
              " 'how',\n",
              " 'much',\n",
              " 'she',\n",
              " 'hated',\n",
              " 'Ianthe',\n",
              " 'and',\n",
              " 'how',\n",
              " 'much',\n",
              " 'of',\n",
              " 'a',\n",
              " 'douche',\n",
              " 'Tamlin',\n",
              " 'is',\n",
              " '.',\n",
              " 'I',\n",
              " 'thought',\n",
              " 'this',\n",
              " 'whole',\n",
              " 'part',\n",
              " 'was',\n",
              " 'boring',\n",
              " 'when',\n",
              " 'it',\n",
              " 'should',\n",
              " 'have',\n",
              " 'been',\n",
              " 'extremely',\n",
              " 'tense',\n",
              " 'and',\n",
              " 'exciting',\n",
              " '.',\n",
              " 'But',\n",
              " 'I',\n",
              " 'think',\n",
              " 'the',\n",
              " 'worst',\n",
              " 'thing',\n",
              " 'was',\n",
              " 'the',\n",
              " 'overall',\n",
              " 'pacing',\n",
              " '.',\n",
              " 'It',\n",
              " \"'s\",\n",
              " 'a',\n",
              " 'long',\n",
              " 'book',\n",
              " ',',\n",
              " 'but',\n",
              " 'I',\n",
              " 'can',\n",
              " 'normally',\n",
              " 'sprint',\n",
              " 'through',\n",
              " 'Maas',\n",
              " \"'s\",\n",
              " 'works',\n",
              " 'in',\n",
              " 'a',\n",
              " 'day',\n",
              " ',',\n",
              " 'yet',\n",
              " 'here',\n",
              " 'it',\n",
              " 'was',\n",
              " 'such',\n",
              " 'a',\n",
              " 'slog',\n",
              " '.',\n",
              " 'Especially',\n",
              " 'the',\n",
              " 'first',\n",
              " 'half',\n",
              " '.',\n",
              " 'It',\n",
              " \"'s\",\n",
              " 'taken',\n",
              " 'up',\n",
              " 'with',\n",
              " 'a',\n",
              " 'lot',\n",
              " 'of',\n",
              " 'character',\n",
              " 'conversations',\n",
              " 'and',\n",
              " 'strategizing',\n",
              " 'for',\n",
              " 'the',\n",
              " 'upcoming',\n",
              " 'war',\n",
              " 'with',\n",
              " 'Hybern',\n",
              " '.',\n",
              " 'It',\n",
              " 'lacked',\n",
              " 'a',\n",
              " 'pull',\n",
              " ',',\n",
              " 'a',\n",
              " 'sense',\n",
              " 'of',\n",
              " 'urgency',\n",
              " ',',\n",
              " 'some',\n",
              " 'kind',\n",
              " 'of',\n",
              " 'tension',\n",
              " 'to',\n",
              " 'make',\n",
              " 'me',\n",
              " 'need',\n",
              " 'to',\n",
              " 'know',\n",
              " 'what',\n",
              " 'happens',\n",
              " 'next',\n",
              " '.',\n",
              " 'I',\n",
              " 'can',\n",
              " 'not',\n",
              " 'believe',\n",
              " 'they',\n",
              " \"'ve\",\n",
              " 'announced',\n",
              " 'another',\n",
              " 'four',\n",
              " 'books',\n",
              " 'for',\n",
              " 'this',\n",
              " 'series',\n",
              " '.',\n",
              " 'Why',\n",
              " '?',\n",
              " '?',\n",
              " '?',\n",
              " 'I',\n",
              " 'can',\n",
              " 'only',\n",
              " 'hope',\n",
              " 'they',\n",
              " 'are',\n",
              " 'some',\n",
              " 'kind',\n",
              " 'of',\n",
              " 'spin-off',\n",
              " 'series',\n",
              " 'because',\n",
              " ',',\n",
              " 'otherwise',\n",
              " ',',\n",
              " 'either',\n",
              " 'a',\n",
              " ')',\n",
              " 'we',\n",
              " 'will',\n",
              " 'have',\n",
              " 'to',\n",
              " 'suffer',\n",
              " 'through',\n",
              " 'who',\n",
              " 'the',\n",
              " 'fuck',\n",
              " 'knows',\n",
              " 'how',\n",
              " 'many',\n",
              " 'more',\n",
              " 'awkward',\n",
              " ',',\n",
              " 'unsexy',\n",
              " 'Feyre/Rhysand',\n",
              " 'sex',\n",
              " 'scenes',\n",
              " ',',\n",
              " 'or',\n",
              " 'b',\n",
              " ')',\n",
              " 'Maas',\n",
              " 'will',\n",
              " 'destroy',\n",
              " 'Rhys',\n",
              " \"'s\",\n",
              " 'character',\n",
              " 'and',\n",
              " 'hook',\n",
              " 'Feyre',\n",
              " 'up',\n",
              " 'with',\n",
              " 'yet',\n",
              " 'another',\n",
              " 'hot',\n",
              " 'fae',\n",
              " 'dude',\n",
              " '.',\n",
              " 'I',\n",
              " \"'m\",\n",
              " 'not',\n",
              " 'sure',\n",
              " 'which',\n",
              " 'is',\n",
              " 'more',\n",
              " 'likely',\n",
              " '.',\n",
              " 'The',\n",
              " 'later',\n",
              " 'chapters',\n",
              " 'of',\n",
              " 'this',\n",
              " 'book',\n",
              " 'picked',\n",
              " 'up',\n",
              " 'in',\n",
              " 'pacing',\n",
              " ',',\n",
              " 'but',\n",
              " 'I',\n",
              " 'think',\n",
              " 'it',\n",
              " 'was',\n",
              " 'too',\n",
              " 'little',\n",
              " ',',\n",
              " 'too',\n",
              " 'late',\n",
              " '.',\n",
              " 'This',\n",
              " 'is',\n",
              " 'a',\n",
              " 'whopping',\n",
              " '700-page',\n",
              " 'monster',\n",
              " 'and',\n",
              " 'it',\n",
              " 'obviously',\n",
              " 'did',\n",
              " \"n't\",\n",
              " 'need',\n",
              " 'to',\n",
              " 'be',\n",
              " '.',\n",
              " 'I',\n",
              " 'will',\n",
              " 'say',\n",
              " 'that',\n",
              " 'I',\n",
              " 'liked',\n",
              " 'how',\n",
              " 'things',\n",
              " 'were',\n",
              " 'left',\n",
              " 'with',\n",
              " 'Tamlin',\n",
              " ',',\n",
              " 'but',\n",
              " 'seeing',\n",
              " 'as',\n",
              " 'that',\n",
              " 'part',\n",
              " 'was',\n",
              " 'only',\n",
              " 'a',\n",
              " 'few',\n",
              " 'sentences',\n",
              " 'long',\n",
              " ',',\n",
              " 'it',\n",
              " 'does',\n",
              " \"n't\",\n",
              " 'make',\n",
              " 'up',\n",
              " 'for',\n",
              " 'everything',\n",
              " 'else',\n",
              " '.',\n",
              " 'I',\n",
              " \"'m\",\n",
              " 'thinking',\n",
              " 'this',\n",
              " 'is',\n",
              " 'where',\n",
              " 'I',\n",
              " 'drop',\n",
              " 'out',\n",
              " 'of',\n",
              " 'this',\n",
              " 'series',\n",
              " '.',\n",
              " 'Blog',\n",
              " '|',\n",
              " 'Facebook',\n",
              " '|',\n",
              " 'Twitter',\n",
              " '|',\n",
              " 'Instagram',\n",
              " '|',\n",
              " 'Youtube',\n",
              " '(',\n",
              " 'less',\n",
              " ')']"
            ]
          },
          "metadata": {
            "tags": []
          },
          "execution_count": 16
        }
      ]
    },
    {
      "cell_type": "code",
      "metadata": {
        "colab": {
          "base_uri": "https://localhost:8080/"
        },
        "id": "XohfUwOwWxaU",
        "outputId": "8a0b1f50-09e0-4dd2-81e5-c670c0a10e68"
      },
      "source": [
        "import string\n",
        "from nltk.tokenize import word_tokenize\n",
        "from nltk.probability import FreqDist\n",
        "review = data1['review'][4]\n",
        "hasil = review.translate(str.maketrans('','',string.punctuation)).lower()\n",
        "\n",
        "tokens = nltk.tokenize.word_tokenize(hasil)\n",
        "kemunculan = nltk.FreqDist(tokens)\n",
        "oke = kemunculan.most_common()\n",
        "print(oke)"
      ],
      "execution_count": null,
      "outputs": [
        {
          "output_type": "stream",
          "text": [
            "[('and', 23), ('i', 21), ('the', 19), ('a', 18), ('was', 13), ('of', 11), ('to', 11), ('this', 10), ('it', 9), ('but', 8), ('with', 8), ('in', 8), ('for', 7), ('book', 6), ('scenes', 6), ('up', 6), ('is', 6), ('how', 6), ('that', 5), ('sex', 5), ('at', 5), ('her', 5), ('they', 5), ('from', 4), ('really', 4), ('another', 4), ('feyre', 4), ('will', 4), ('not', 4), ('its', 4), ('so', 3), ('much', 3), ('just', 3), ('after', 3), ('pacing', 3), ('like', 3), ('were', 3), ('thing', 3), ('are', 3), ('be', 3), ('maas', 3), ('or', 3), ('lot', 3), ('more', 3), ('some', 3), ('part', 3), ('kind', 3), ('can', 3), ('series', 3), ('tell', 2), ('loved', 2), ('didnt', 2), ('thinking', 2), ('court', 2), ('such', 2), ('start', 2), ('awkward', 2), ('me', 2), ('one', 2), ('maass', 2), ('she', 2), ('words', 2), ('here', 2), ('rhysand', 2), ('there', 2), ('no', 2), ('tension', 2), ('which', 2), ('boring', 2), ('about', 2), ('these', 2), ('same', 2), ('time', 2), ('picked', 2), ('as', 2), ('where', 2), ('obviously', 2), ('disappointed', 2), ('less', 2), ('especially', 2), ('first', 2), ('tamlin', 2), ('have', 2), ('think', 2), ('long', 2), ('through', 2), ('yet', 2), ('character', 2), ('make', 2), ('need', 2), ('only', 2), ('im', 2), ('too', 2), ('wish', 1), ('could', 1), ('you', 1), ('mist', 1), ('fury', 1), ('huge', 1), ('improvement', 1), ('thorns', 1), ('roses', 1), ('excited', 1), ('third', 1), ('installment', 1), ('even', 1), ('preordered', 1), ('struggled', 1), ('get', 1), ('into', 1), ('very', 1), ('issues', 1), ('did', 1), ('nothing', 1), ('disappointment', 1), ('ive', 1), ('said', 1), ('before', 1), ('dislike', 1), ('best', 1), ('writes', 1), ('them', 1), ('strangely', 1), ('branding', 1), ('claiming', 1), ('plain', 1), ('icky', 1), ('all', 1), ('talk', 1), ('mates', 1), ('growling', 1), ('purring', 1), ('climaxing', 1), ('stroking', 1), ('anothers', 1), ('wings', 1), ('felt', 1), ('id', 1), ('walked', 1), ('on', 1), ('two', 1), ('animals', 1), ('rutting', 1), ('mud', 1), ('ugh', 1), ('already', 1), ('mated', 1), ('their', 1), ('eyeballs', 1), ('sexual', 1), ('theywont', 1), ('made', 1), ('whats', 1), ('strange', 1), ('manage', 1), ('somehow', 1), ('both', 1), ('graphic', 1), ('coy', 1), ('never', 1), ('actually', 1), ('uses', 1), ('explicit', 1), ('if', 1), ('young', 1), ('kid', 1), ('might', 1), ('assume', 1), ('dancing', 1), ('playing', 1), ('an', 1), ('instrument', 1), ('his', 1), ('touch', 1), ('turned', 1), ('different', 1), ('exploring', 1), ('broad', 1), ('strokes', 1), ('featherlight', 1), ('ones', 1), ('arches', 1), ('swirls', 1), ('direct', 1), ('searing', 1), ('lines', 1), ('vagina', 1), ('usually', 1), ('described', 1), ('want', 1), ('him', 1), ('then', 1), ('weirdly', 1), ('overwritten', 1), ('orgasm', 1), ('called', 1), ('leaving', 1), ('â€œskin', 1), ('glowing', 1), ('newborn', 1), ('star', 1), ('wakeâ€\\x9d', 1), ('my', 1), ('writing', 1), ('general', 1), ('honest', 1), ('seemed', 1), ('write', 1), ('show', 1), ('than', 1), ('usual', 1), ('wasted', 1), ('opportunity', 1), ('underhanded', 1), ('manipulation', 1), ('last', 1), ('ended', 1), ('undercover', 1), ('position', 1), ('lies', 1), ('sneakiness', 1), ('except', 1), ('mostly', 1), ('swanning', 1), ('around', 1), ('quietly', 1), ('seething', 1), ('herself', 1), ('hated', 1), ('ianthe', 1), ('douche', 1), ('thought', 1), ('whole', 1), ('when', 1), ('should', 1), ('been', 1), ('extremely', 1), ('tense', 1), ('exciting', 1), ('worst', 1), ('overall', 1), ('normally', 1), ('sprint', 1), ('works', 1), ('day', 1), ('slog', 1), ('half', 1), ('taken', 1), ('conversations', 1), ('strategizing', 1), ('upcoming', 1), ('war', 1), ('hybern', 1), ('lacked', 1), ('pull', 1), ('sense', 1), ('urgency', 1), ('know', 1), ('what', 1), ('happens', 1), ('next', 1), ('believe', 1), ('theyve', 1), ('announced', 1), ('four', 1), ('books', 1), ('why', 1), ('hope', 1), ('spinoff', 1), ('because', 1), ('otherwise', 1), ('either', 1), ('we', 1), ('suffer', 1), ('who', 1), ('fuck', 1), ('knows', 1), ('many', 1), ('unsexy', 1), ('feyrerhysand', 1), ('b', 1), ('destroy', 1), ('rhyss', 1), ('hook', 1), ('hot', 1), ('fae', 1), ('dude', 1), ('sure', 1), ('likely', 1), ('later', 1), ('chapters', 1), ('little', 1), ('late', 1), ('whopping', 1), ('700page', 1), ('monster', 1), ('say', 1), ('liked', 1), ('things', 1), ('left', 1), ('seeing', 1), ('few', 1), ('sentences', 1), ('doesnt', 1), ('everything', 1), ('else', 1), ('drop', 1), ('out', 1), ('blog', 1), ('facebook', 1), ('twitter', 1), ('instagram', 1), ('youtube', 1)]\n"
          ],
          "name": "stdout"
        }
      ]
    },
    {
      "cell_type": "code",
      "metadata": {
        "colab": {
          "base_uri": "https://localhost:8080/"
        },
        "id": "uq4eRF8DWzUn",
        "outputId": "ff9985ee-c5e2-4262-c2ab-154c72240e78"
      },
      "source": [
        "#stopword\n",
        "import nltk\n",
        "nltk.download('stopwords')"
      ],
      "execution_count": null,
      "outputs": [
        {
          "output_type": "stream",
          "text": [
            "[nltk_data] Downloading package stopwords to /root/nltk_data...\n",
            "[nltk_data]   Unzipping corpora/stopwords.zip.\n"
          ],
          "name": "stdout"
        },
        {
          "output_type": "execute_result",
          "data": {
            "text/plain": [
              "True"
            ]
          },
          "metadata": {
            "tags": []
          },
          "execution_count": 18
        }
      ]
    },
    {
      "cell_type": "code",
      "metadata": {
        "colab": {
          "base_uri": "https://localhost:8080/"
        },
        "id": "SL3_3WnWW1iW",
        "outputId": "c3a24393-2753-467c-fc2c-3fe2e19b9bae"
      },
      "source": [
        "from nltk.tokenize import sent_tokenize, word_tokenize\n",
        "from nltk.corpus import stopwords\n",
        "listStopword = set(stopwords.words('english'))\n",
        "\n",
        "removed = []\n",
        "for t in kemunculan:\n",
        "  if t not in listStopword:\n",
        "    removed.append(t)\n",
        "\n",
        "print(removed)"
      ],
      "execution_count": null,
      "outputs": [
        {
          "output_type": "stream",
          "text": [
            "['wish', 'much', 'could', 'tell', 'loved', 'book', 'didnt', 'thinking', 'court', 'mist', 'fury', 'huge', 'improvement', 'thorns', 'roses', 'really', 'excited', 'third', 'installment', 'even', 'preordered', 'struggled', 'get', 'start', 'pacing', 'issues', 'awkward', 'sex', 'scenes', 'nothing', 'one', 'disappointment', 'another', 'ive', 'said', 'dislike', 'maass', 'best', 'writes', 'strangely', 'words', 'like', 'branding', 'claiming', 'plain', 'icky', 'talk', 'mates', 'growling', 'purring', 'climaxing', 'stroking', 'anothers', 'wings', 'felt', 'id', 'walked', 'two', 'animals', 'rutting', 'mud', 'ugh', 'thing', 'feyre', 'rhysand', 'already', 'mated', 'eyeballs', 'sexual', 'tension', 'theywont', 'made', 'boring', 'whats', 'strange', 'manage', 'somehow', 'graphic', 'coy', 'time', 'maas', 'never', 'actually', 'uses', 'explicit', 'young', 'kid', 'picked', 'might', 'assume', 'dancing', 'playing', 'instrument', 'touch', 'turned', 'different', 'exploring', 'broad', 'strokes', 'featherlight', 'ones', 'arches', 'swirls', 'direct', 'searing', 'lines', 'vagina', 'usually', 'described', 'want', 'weirdly', 'overwritten', 'orgasm', 'obviously', 'called', 'leaving', 'â€œskin', 'glowing', 'newborn', 'star', 'wakeâ€\\x9d', 'disappointed', 'writing', 'general', 'honest', 'seemed', 'write', 'lot', 'less', 'show', 'usual', 'especially', 'wasted', 'opportunity', 'underhanded', 'manipulation', 'first', 'part', 'last', 'ended', 'kind', 'undercover', 'position', 'lies', 'sneakiness', 'except', 'mostly', 'swanning', 'around', 'quietly', 'seething', 'hated', 'ianthe', 'douche', 'tamlin', 'thought', 'whole', 'extremely', 'tense', 'exciting', 'think', 'worst', 'overall', 'long', 'normally', 'sprint', 'works', 'day', 'yet', 'slog', 'half', 'taken', 'character', 'conversations', 'strategizing', 'upcoming', 'war', 'hybern', 'lacked', 'pull', 'sense', 'urgency', 'make', 'need', 'know', 'happens', 'next', 'believe', 'theyve', 'announced', 'four', 'books', 'series', 'hope', 'spinoff', 'otherwise', 'either', 'suffer', 'fuck', 'knows', 'many', 'unsexy', 'feyrerhysand', 'b', 'destroy', 'rhyss', 'hook', 'hot', 'fae', 'dude', 'im', 'sure', 'likely', 'later', 'chapters', 'little', 'late', 'whopping', '700page', 'monster', 'say', 'liked', 'things', 'left', 'seeing', 'sentences', 'doesnt', 'everything', 'else', 'drop', 'blog', 'facebook', 'twitter', 'instagram', 'youtube']\n"
          ],
          "name": "stdout"
        }
      ]
    },
    {
      "cell_type": "code",
      "metadata": {
        "id": "uQARAfQkW2wd"
      },
      "source": [
        ""
      ],
      "execution_count": null,
      "outputs": []
    },
    {
      "cell_type": "code",
      "metadata": {
        "id": "mZE37F3nW7pE"
      },
      "source": [
        "# Merubah keseluruhan kalimat di kolom yang dipilih menjadi huruf kecil\n",
        "data1['review'] = data1['review'].str.lower()"
      ],
      "execution_count": null,
      "outputs": []
    },
    {
      "cell_type": "code",
      "metadata": {
        "id": "Z5L0qP1rW-wB"
      },
      "source": [
        "#LOGISTIC REGRESSION"
      ],
      "execution_count": null,
      "outputs": []
    },
    {
      "cell_type": "code",
      "metadata": {
        "colab": {
          "base_uri": "https://localhost:8080/",
          "height": 202
        },
        "id": "EwXst9gmXAfM",
        "outputId": "fb9fb34f-4002-436d-ac97-7637dc0516dc"
      },
      "source": [
        "data1 = data1[['review', 'book_rating']]\n",
        "data1.head()"
      ],
      "execution_count": null,
      "outputs": [
        {
          "output_type": "execute_result",
          "data": {
            "text/html": [
              "<div>\n",
              "<style scoped>\n",
              "    .dataframe tbody tr th:only-of-type {\n",
              "        vertical-align: middle;\n",
              "    }\n",
              "\n",
              "    .dataframe tbody tr th {\n",
              "        vertical-align: top;\n",
              "    }\n",
              "\n",
              "    .dataframe thead th {\n",
              "        text-align: right;\n",
              "    }\n",
              "</style>\n",
              "<table border=\"1\" class=\"dataframe\">\n",
              "  <thead>\n",
              "    <tr style=\"text-align: right;\">\n",
              "      <th></th>\n",
              "      <th>review</th>\n",
              "      <th>book_rating</th>\n",
              "    </tr>\n",
              "  </thead>\n",
              "  <tbody>\n",
              "    <tr>\n",
              "      <th>0</th>\n",
              "      <td>202.\\nThatâ€™s the number of times that the wo...</td>\n",
              "      <td>4.51</td>\n",
              "    </tr>\n",
              "    <tr>\n",
              "      <th>1</th>\n",
              "      <td>I need a black silk robe and a balcony to wear...</td>\n",
              "      <td>4.51</td>\n",
              "    </tr>\n",
              "    <tr>\n",
              "      <th>2</th>\n",
              "      <td>THIS BOOK TOTALLY WRECKED ME. In the best poss...</td>\n",
              "      <td>4.51</td>\n",
              "    </tr>\n",
              "    <tr>\n",
              "      <th>3</th>\n",
              "      <td>3.75 stars\\n\"Rhys stepped off the stairs and t...</td>\n",
              "      <td>4.51</td>\n",
              "    </tr>\n",
              "    <tr>\n",
              "      <th>4</th>\n",
              "      <td>I wish so much that I could tell you I loved t...</td>\n",
              "      <td>4.51</td>\n",
              "    </tr>\n",
              "  </tbody>\n",
              "</table>\n",
              "</div>"
            ],
            "text/plain": [
              "                                              review  book_rating\n",
              "0  202.\\nThatâ€™s the number of times that the wo...         4.51\n",
              "1  I need a black silk robe and a balcony to wear...         4.51\n",
              "2  THIS BOOK TOTALLY WRECKED ME. In the best poss...         4.51\n",
              "3  3.75 stars\\n\"Rhys stepped off the stairs and t...         4.51\n",
              "4  I wish so much that I could tell you I loved t...         4.51"
            ]
          },
          "metadata": {
            "tags": []
          },
          "execution_count": 37
        }
      ]
    },
    {
      "cell_type": "code",
      "metadata": {
        "colab": {
          "base_uri": "https://localhost:8080/"
        },
        "id": "TsNaLFH2XFmw",
        "outputId": "b1a8c5c9-c49d-471f-a52d-b007f6a24e95"
      },
      "source": [
        "data1.isna().mean()"
      ],
      "execution_count": null,
      "outputs": [
        {
          "output_type": "execute_result",
          "data": {
            "text/plain": [
              "review         0.034464\n",
              "book_rating    0.000000\n",
              "dtype: float64"
            ]
          },
          "metadata": {
            "tags": []
          },
          "execution_count": 38
        }
      ]
    },
    {
      "cell_type": "code",
      "metadata": {
        "colab": {
          "base_uri": "https://localhost:8080/",
          "height": 466
        },
        "id": "uZiuWrw1XIni",
        "outputId": "f9718f2f-20e5-4212-bf5c-4901da2bd7df"
      },
      "source": [
        "stars_count = data1['book_rating'].value_counts()\n",
        "stars_count = stars_count.sort_index()\n",
        "\n",
        "fig = plt.figure(figsize=(10, 6))\n",
        "ax = sns.barplot(stars_count.index, stars_count.values)\n",
        "plt.title(\"Ratings Distribution\",fontsize = 20)\n",
        "plt.ylabel('Number of Reviews', fontsize = 12)\n",
        "plt.xlabel('Number of Ratings', fontsize = 12);"
      ],
      "execution_count": null,
      "outputs": [
        {
          "output_type": "stream",
          "text": [
            "/usr/local/lib/python3.6/dist-packages/seaborn/_decorators.py:43: FutureWarning: Pass the following variables as keyword args: x, y. From version 0.12, the only valid positional argument will be `data`, and passing other arguments without an explicit keyword will result in an error or misinterpretation.\n",
            "  FutureWarning\n"
          ],
          "name": "stderr"
        },
        {
          "output_type": "display_data",
          "data": {
            "image/png": "[encoded data removed]",
            "text/plain": [
              "<Figure size 720x432 with 1 Axes>"
            ]
          },
          "metadata": {
            "tags": [],
            "needs_background": "light"
          }
        }
      ]
    },
    {
      "cell_type": "code",
      "metadata": {
        "colab": {
          "base_uri": "https://localhost:8080/",
          "height": 202
        },
        "id": "3KoVEZCNXP5a",
        "outputId": "87408e85-d97c-437a-951e-09e37ab635f0"
      },
      "source": [
        "data1=data1[data1.book_rating != 3]\n",
        "\n",
        "pd.set_option('mode.chained_assignment', None)\n",
        "data1[\"labels\"] = data1[\"book_rating\"].apply(lambda x: 1 if x < 3  else 0) # positive as 0 and negative as 1\n",
        "data1 = data1.drop(\"book_rating\",axis=1)\n",
        "\n",
        "data1.head()"
      ],
      "execution_count": null,
      "outputs": [
        {
          "output_type": "execute_result",
          "data": {
            "text/html": [
              "<div>\n",
              "<style scoped>\n",
              "    .dataframe tbody tr th:only-of-type {\n",
              "        vertical-align: middle;\n",
              "    }\n",
              "\n",
              "    .dataframe tbody tr th {\n",
              "        vertical-align: top;\n",
              "    }\n",
              "\n",
              "    .dataframe thead th {\n",
              "        text-align: right;\n",
              "    }\n",
              "</style>\n",
              "<table border=\"1\" class=\"dataframe\">\n",
              "  <thead>\n",
              "    <tr style=\"text-align: right;\">\n",
              "      <th></th>\n",
              "      <th>review</th>\n",
              "      <th>labels</th>\n",
              "    </tr>\n",
              "  </thead>\n",
              "  <tbody>\n",
              "    <tr>\n",
              "      <th>0</th>\n",
              "      <td>202.\\nThatâ€™s the number of times that the wo...</td>\n",
              "      <td>0</td>\n",
              "    </tr>\n",
              "    <tr>\n",
              "      <th>1</th>\n",
              "      <td>I need a black silk robe and a balcony to wear...</td>\n",
              "      <td>0</td>\n",
              "    </tr>\n",
              "    <tr>\n",
              "      <th>2</th>\n",
              "      <td>THIS BOOK TOTALLY WRECKED ME. In the best poss...</td>\n",
              "      <td>0</td>\n",
              "    </tr>\n",
              "    <tr>\n",
              "      <th>3</th>\n",
              "      <td>3.75 stars\\n\"Rhys stepped off the stairs and t...</td>\n",
              "      <td>0</td>\n",
              "    </tr>\n",
              "    <tr>\n",
              "      <th>4</th>\n",
              "      <td>I wish so much that I could tell you I loved t...</td>\n",
              "      <td>0</td>\n",
              "    </tr>\n",
              "  </tbody>\n",
              "</table>\n",
              "</div>"
            ],
            "text/plain": [
              "                                              review  labels\n",
              "0  202.\\nThatâ€™s the number of times that the wo...       0\n",
              "1  I need a black silk robe and a balcony to wear...       0\n",
              "2  THIS BOOK TOTALLY WRECKED ME. In the best poss...       0\n",
              "3  3.75 stars\\n\"Rhys stepped off the stairs and t...       0\n",
              "4  I wish so much that I could tell you I loved t...       0"
            ]
          },
          "metadata": {
            "tags": []
          },
          "execution_count": 40
        }
      ]
    },
    {
      "cell_type": "code",
      "metadata": {
        "colab": {
          "base_uri": "https://localhost:8080/",
          "height": 466
        },
        "id": "xCGyxHrlX0Xq",
        "outputId": "e3139850-3471-4fce-94f1-2ae160278b16"
      },
      "source": [
        "label_count = data1['labels'].value_counts()\n",
        "label_count = label_count.sort_index()\n",
        "\n",
        "fig = plt.figure(figsize=(6, 6))\n",
        "ax = sns.barplot(label_count.index, label_count.values)\n",
        "plt.title(\"Class Distribution\",fontsize = 20)\n",
        "plt.ylabel('Number of Reviews', fontsize = 12)\n",
        "plt.xlabel('Sentiment', fontsize = 12);"
      ],
      "execution_count": null,
      "outputs": [
        {
          "output_type": "stream",
          "text": [
            "/usr/local/lib/python3.6/dist-packages/seaborn/_decorators.py:43: FutureWarning: Pass the following variables as keyword args: x, y. From version 0.12, the only valid positional argument will be `data`, and passing other arguments without an explicit keyword will result in an error or misinterpretation.\n",
            "  FutureWarning\n"
          ],
          "name": "stderr"
        },
        {
          "output_type": "display_data",
          "data": {
            "image/png": "[encoded data removed]",
            "text/plain": [
              "<Figure size 432x432 with 1 Axes>"
            ]
          },
          "metadata": {
            "tags": [],
            "needs_background": "light"
          }
        }
      ]
    },
    {
      "cell_type": "code",
      "metadata": {
        "colab": {
          "base_uri": "https://localhost:8080/"
        },
        "id": "JzY5CojBX9jz",
        "outputId": "a999c7e9-5879-4423-e4f8-5b852bc3412f"
      },
      "source": [
        "print(\"{:.2f}\".format(data1[data1.labels == 0].shape[0]/data1.shape[0]))"
      ],
      "execution_count": null,
      "outputs": [
        {
          "output_type": "stream",
          "text": [
            "0.99\n"
          ],
          "name": "stdout"
        }
      ]
    },
    {
      "cell_type": "code",
      "metadata": {
        "id": "Uyd_4tgEYBcM"
      },
      "source": [
        "train, test = train_test_split(data1, test_size = 0.3, stratify = data1['labels'], random_state = 42)"
      ],
      "execution_count": null,
      "outputs": []
    },
    {
      "cell_type": "code",
      "metadata": {
        "id": "21Lh13jlYEu4"
      },
      "source": [
        "punct = set(string.punctuation)"
      ],
      "execution_count": null,
      "outputs": []
    },
    {
      "cell_type": "code",
      "metadata": {
        "id": "88gH-tFAYIVV"
      },
      "source": [
        "def text_prep(review):\n",
        "    #clean text\n",
        "    review = re.sub(r\"n't\", \" not \", review)\n",
        "    review = re.sub(r\"\\'s\", \" \", review)\n",
        "    review = re.sub(r\"\\'ve\", \" have \", review)\n",
        "    review = re.sub(r\"\\'re\", \" are \", review)\n",
        "    review = re.sub(r\"\\'d\", \" would \", review)\n",
        "    review = re.sub(r\"\\'ll\", \" will \", review)\n",
        "    \n",
        "    #remove non-letters and lower case\n",
        "    review = re.sub('[^a-z\\s]', '', review.lower())\n",
        "    \n",
        "    #remove punctuation        \n",
        "    punc_removed = [char for char in review if char not in punct]\n",
        "    punc_removed = ''.join(punc_removed)\n",
        "    \n",
        "    return [word for word in punc_removed.split()]"
      ],
      "execution_count": null,
      "outputs": []
    },
    {
      "cell_type": "code",
      "metadata": {
        "colab": {
          "base_uri": "https://localhost:8080/"
        },
        "id": "29lGT85ZX5za",
        "outputId": "762c6b2e-37b2-4430-c5e7-fea6885543eb"
      },
      "source": [
        "start_time = time.time()\n",
        "cv= CountVectorizer(binary=True, analyzer = text_prep, min_df = 10, max_df = 0.95)\n",
        "cv.fit_transform(train['review'].values.astype('U'))\n",
        "train_feature_set=cv.transform(train['review'].values.astype('U'))\n",
        "test_feature_set=cv.transform(test['review'].values.astype('U'))\n",
        "print(\"Time takes to convert text input into feature vector: \", round((time.time() - start_time)/60, 2), \" mins\")"
      ],
      "execution_count": null,
      "outputs": [
        {
          "output_type": "stream",
          "text": [
            "Time takes to convert text input into feature vector:  0.28  mins\n"
          ],
          "name": "stdout"
        }
      ]
    },
    {
      "cell_type": "code",
      "metadata": {
        "colab": {
          "base_uri": "https://localhost:8080/"
        },
        "id": "zdHCChquYXWD",
        "outputId": "a4b319ad-56a1-4011-f720-35b0f08b78f1"
      },
      "source": [
        "train_feature_set.shape[1]"
      ],
      "execution_count": null,
      "outputs": [
        {
          "output_type": "execute_result",
          "data": {
            "text/plain": [
              "14466"
            ]
          },
          "metadata": {
            "tags": []
          },
          "execution_count": 48
        }
      ]
    },
    {
      "cell_type": "code",
      "metadata": {
        "colab": {
          "base_uri": "https://localhost:8080/"
        },
        "id": "qhfw_HVNYeTw",
        "outputId": "e4130581-19c8-46b3-dd48-2eb25e6571a7"
      },
      "source": [
        "cv.vocabulary_['love']"
      ],
      "execution_count": null,
      "outputs": [
        {
          "output_type": "execute_result",
          "data": {
            "text/plain": [
              "7628"
            ]
          },
          "metadata": {
            "tags": []
          },
          "execution_count": 49
        }
      ]
    },
    {
      "cell_type": "code",
      "metadata": {
        "colab": {
          "base_uri": "https://localhost:8080/",
          "height": 34
        },
        "id": "e1aZSiG2YhTM",
        "outputId": "3241223e-bff7-41b1-8017-bf8847479193"
      },
      "source": [
        "list(cv.vocabulary_.keys())[list(cv.vocabulary_.values()).index(1000)]"
      ],
      "execution_count": null,
      "outputs": [
        {
          "output_type": "execute_result",
          "data": {
            "application/vnd.google.colaboratory.intrinsic+json": {
              "type": "string"
            },
            "text/plain": [
              "'bake'"
            ]
          },
          "metadata": {
            "tags": []
          },
          "execution_count": 50
        }
      ]
    },
    {
      "cell_type": "code",
      "metadata": {
        "id": "qIRSy_hkYiXZ"
      },
      "source": [
        "y_train = train['labels'].values\n",
        "y_test = test['labels'].values"
      ],
      "execution_count": null,
      "outputs": []
    },
    {
      "cell_type": "code",
      "metadata": {
        "colab": {
          "base_uri": "https://localhost:8080/"
        },
        "id": "t7iXETOUYlsR",
        "outputId": "aaf2f21f-f209-42a7-9a8f-d02b7d151f57"
      },
      "source": [
        "start_time = time.time()\n",
        "lr = LogisticRegression(solver = 'liblinear', random_state = 42, max_iter=1000)\n",
        "lr.fit(train_feature_set,y_train)\n",
        "y_pred = lr.predict(test_feature_set)\n",
        "print(\"Time takes to train model and make predictions: \", round((time.time() - start_time)/60, 2), \" mins\")"
      ],
      "execution_count": null,
      "outputs": [
        {
          "output_type": "stream",
          "text": [
            "Time takes to train model and make predictions:  0.01  mins\n"
          ],
          "name": "stdout"
        }
      ]
    },
    {
      "cell_type": "code",
      "metadata": {
        "id": "a4MP-BwxY23L"
      },
      "source": [
        "#Matrix"
      ],
      "execution_count": null,
      "outputs": []
    },
    {
      "cell_type": "code",
      "metadata": {
        "colab": {
          "base_uri": "https://localhost:8080/"
        },
        "id": "3BYcorRXYp9n",
        "outputId": "c4730125-95a3-4609-bddd-455be1c4a179"
      },
      "source": [
        "print(\"Accuracy: \",round(metrics.accuracy_score(y_test,y_pred),3))\n",
        "print(\"F1: \",round(metrics.f1_score(y_test, y_pred),3))"
      ],
      "execution_count": null,
      "outputs": [
        {
          "output_type": "stream",
          "text": [
            "Accuracy:  0.994\n",
            "F1:  0.049\n"
          ],
          "name": "stdout"
        }
      ]
    },
    {
      "cell_type": "code",
      "metadata": {
        "colab": {
          "base_uri": "https://localhost:8080/",
          "height": 294
        },
        "id": "jBZH_53nYzMX",
        "outputId": "c10cc2bb-4cbe-42e0-adbb-a2bfa3f63449"
      },
      "source": [
        "disp = metrics.plot_confusion_matrix(lr, test_feature_set, y_test,\n",
        "                                 display_labels=['Positive', 'Negative'],\n",
        "                                 cmap=plt.cm.Blues,\n",
        "                                 normalize='true')\n",
        "disp.ax_.set_title('Logistic Regression Confusion matrix, with normalization');"
      ],
      "execution_count": null,
      "outputs": [
        {
          "output_type": "display_data",
          "data": {
            "image/png": "[encoded data removed]",
            "text/plain": [
              "<Figure size 432x288 with 2 Axes>"
            ]
          },
          "metadata": {
            "tags": [],
            "needs_background": "light"
          }
        }
      ]
    },
    {
      "cell_type": "code",
      "metadata": {
        "id": "kpKTJ-jaY0_Q"
      },
      "source": [
        ""
      ],
      "execution_count": null,
      "outputs": []
    },
    {
      "cell_type": "code",
      "metadata": {
        "id": "oRhPb-ldY6j7"
      },
      "source": [
        ""
      ],
      "execution_count": null,
      "outputs": []
    },
    {
      "cell_type": "code",
      "metadata": {
        "id": "VyXzOVDZZROM"
      },
      "source": [
        ""
      ],
      "execution_count": null,
      "outputs": []
    },
    {
      "cell_type": "code",
      "metadata": {
        "id": "2ot2-we0ZRUo"
      },
      "source": [
        ""
      ],
      "execution_count": null,
      "outputs": []
    },
    {
      "cell_type": "code",
      "metadata": {
        "id": "6YVTh6TPZDpZ"
      },
      "source": [
        "#REG"
      ],
      "execution_count": null,
      "outputs": []
    },
    {
      "cell_type": "code",
      "metadata": {
        "id": "8MFyBiu7ZO7P"
      },
      "source": [
        "#Change Title to String\n",
        "data1['review'] = data1['review'].astype(str)"
      ],
      "execution_count": null,
      "outputs": []
    },
    {
      "cell_type": "code",
      "metadata": {
        "colab": {
          "base_uri": "https://localhost:8080/"
        },
        "id": "fJ6bCfi4ZQA4",
        "outputId": "5e1ae707-12b9-4290-97d6-9add655925ab"
      },
      "source": [
        "# Import library for Text Analytics\n",
        "import nltk\n",
        "nltk.download('vader_lexicon')"
      ],
      "execution_count": null,
      "outputs": [
        {
          "output_type": "stream",
          "text": [
            "[nltk_data] Downloading package vader_lexicon to /root/nltk_data...\n"
          ],
          "name": "stdout"
        },
        {
          "output_type": "execute_result",
          "data": {
            "text/plain": [
              "True"
            ]
          },
          "metadata": {
            "tags": []
          },
          "execution_count": 56
        }
      ]
    },
    {
      "cell_type": "code",
      "metadata": {
        "id": "S2Nj4JgcZXq-"
      },
      "source": [
        ""
      ],
      "execution_count": null,
      "outputs": []
    },
    {
      "cell_type": "code",
      "metadata": {
        "colab": {
          "base_uri": "https://localhost:8080/",
          "height": 416
        },
        "id": "Lb4RqNYzZXxW",
        "outputId": "ac613207-e1de-47cc-e516-39484af4d6a6"
      },
      "source": [
        "# Sentiment Analysis\n",
        "sid = SentimentIntensityAnalyzer()\n",
        "listy = [] \n",
        "for index, row in data1.iterrows():\n",
        "  data1['review']\n",
        "  ss = sid.polarity_scores(row['review'])\n",
        "  listy.append(ss)\n",
        "  \n",
        "se = pd.Series(listy)\n",
        "data1['polarity'] = se.values\n",
        "display(data1.head(100))"
      ],
      "execution_count": null,
      "outputs": [
        {
          "output_type": "display_data",
          "data": {
            "text/html": [
              "<div>\n",
              "<style scoped>\n",
              "    .dataframe tbody tr th:only-of-type {\n",
              "        vertical-align: middle;\n",
              "    }\n",
              "\n",
              "    .dataframe tbody tr th {\n",
              "        vertical-align: top;\n",
              "    }\n",
              "\n",
              "    .dataframe thead th {\n",
              "        text-align: right;\n",
              "    }\n",
              "</style>\n",
              "<table border=\"1\" class=\"dataframe\">\n",
              "  <thead>\n",
              "    <tr style=\"text-align: right;\">\n",
              "      <th></th>\n",
              "      <th>review</th>\n",
              "      <th>labels</th>\n",
              "      <th>polarity</th>\n",
              "    </tr>\n",
              "  </thead>\n",
              "  <tbody>\n",
              "    <tr>\n",
              "      <th>0</th>\n",
              "      <td>202.\\nThatâ€™s the number of times that the wo...</td>\n",
              "      <td>0</td>\n",
              "      <td>{'neg': 0.144, 'neu': 0.701, 'pos': 0.155, 'co...</td>\n",
              "    </tr>\n",
              "    <tr>\n",
              "      <th>1</th>\n",
              "      <td>I need a black silk robe and a balcony to wear...</td>\n",
              "      <td>0</td>\n",
              "      <td>{'neg': 0.181, 'neu': 0.69, 'pos': 0.129, 'com...</td>\n",
              "    </tr>\n",
              "    <tr>\n",
              "      <th>2</th>\n",
              "      <td>THIS BOOK TOTALLY WRECKED ME. In the best poss...</td>\n",
              "      <td>0</td>\n",
              "      <td>{'neg': 0.081, 'neu': 0.772, 'pos': 0.147, 'co...</td>\n",
              "    </tr>\n",
              "    <tr>\n",
              "      <th>3</th>\n",
              "      <td>3.75 stars\\n\"Rhys stepped off the stairs and t...</td>\n",
              "      <td>0</td>\n",
              "      <td>{'neg': 0.088, 'neu': 0.775, 'pos': 0.137, 'co...</td>\n",
              "    </tr>\n",
              "    <tr>\n",
              "      <th>4</th>\n",
              "      <td>I wish so much that I could tell you I loved t...</td>\n",
              "      <td>0</td>\n",
              "      <td>{'neg': 0.164, 'neu': 0.749, 'pos': 0.087, 'co...</td>\n",
              "    </tr>\n",
              "    <tr>\n",
              "      <th>...</th>\n",
              "      <td>...</td>\n",
              "      <td>...</td>\n",
              "      <td>...</td>\n",
              "    </tr>\n",
              "    <tr>\n",
              "      <th>95</th>\n",
              "      <td>5 STARS\\nThank you, Eleanor Oliphant. Thank yo...</td>\n",
              "      <td>0</td>\n",
              "      <td>{'neg': 0.073, 'neu': 0.779, 'pos': 0.148, 'co...</td>\n",
              "    </tr>\n",
              "    <tr>\n",
              "      <th>96</th>\n",
              "      <td>I'd rate this 4.5 stars.\\nI'll admit, when I s...</td>\n",
              "      <td>0</td>\n",
              "      <td>{'neg': 0.102, 'neu': 0.791, 'pos': 0.106, 'co...</td>\n",
              "    </tr>\n",
              "    <tr>\n",
              "      <th>97</th>\n",
              "      <td>Eleanor Oliphant lives a fairly secluded life ...</td>\n",
              "      <td>0</td>\n",
              "      <td>{'neg': 0.105, 'neu': 0.766, 'pos': 0.129, 'co...</td>\n",
              "    </tr>\n",
              "    <tr>\n",
              "      <th>98</th>\n",
              "      <td>What an absolutely fantastic character Eleanor...</td>\n",
              "      <td>0</td>\n",
              "      <td>{'neg': 0.036, 'neu': 0.779, 'pos': 0.186, 'co...</td>\n",
              "    </tr>\n",
              "    <tr>\n",
              "      <th>99</th>\n",
              "      <td>At first itâ€™s easy to think that Eleanor is ...</td>\n",
              "      <td>0</td>\n",
              "      <td>{'neg': 0.129, 'neu': 0.769, 'pos': 0.102, 'co...</td>\n",
              "    </tr>\n",
              "  </tbody>\n",
              "</table>\n",
              "<p>100 rows × 3 columns</p>\n",
              "</div>"
            ],
            "text/plain": [
              "                                               review  ...                                           polarity\n",
              "0   202.\\nThatâ€™s the number of times that the wo...  ...  {'neg': 0.144, 'neu': 0.701, 'pos': 0.155, 'co...\n",
              "1   I need a black silk robe and a balcony to wear...  ...  {'neg': 0.181, 'neu': 0.69, 'pos': 0.129, 'com...\n",
              "2   THIS BOOK TOTALLY WRECKED ME. In the best poss...  ...  {'neg': 0.081, 'neu': 0.772, 'pos': 0.147, 'co...\n",
              "3   3.75 stars\\n\"Rhys stepped off the stairs and t...  ...  {'neg': 0.088, 'neu': 0.775, 'pos': 0.137, 'co...\n",
              "4   I wish so much that I could tell you I loved t...  ...  {'neg': 0.164, 'neu': 0.749, 'pos': 0.087, 'co...\n",
              "..                                                ...  ...                                                ...\n",
              "95  5 STARS\\nThank you, Eleanor Oliphant. Thank yo...  ...  {'neg': 0.073, 'neu': 0.779, 'pos': 0.148, 'co...\n",
              "96  I'd rate this 4.5 stars.\\nI'll admit, when I s...  ...  {'neg': 0.102, 'neu': 0.791, 'pos': 0.106, 'co...\n",
              "97  Eleanor Oliphant lives a fairly secluded life ...  ...  {'neg': 0.105, 'neu': 0.766, 'pos': 0.129, 'co...\n",
              "98  What an absolutely fantastic character Eleanor...  ...  {'neg': 0.036, 'neu': 0.779, 'pos': 0.186, 'co...\n",
              "99  At first itâ€™s easy to think that Eleanor is ...  ...  {'neg': 0.129, 'neu': 0.769, 'pos': 0.102, 'co...\n",
              "\n",
              "[100 rows x 3 columns]"
            ]
          },
          "metadata": {
            "tags": []
          }
        }
      ]
    },
    {
      "cell_type": "code",
      "metadata": {
        "id": "bmuY6qmyZY5w"
      },
      "source": [
        ""
      ],
      "execution_count": null,
      "outputs": []
    },
    {
      "cell_type": "code",
      "metadata": {
        "colab": {
          "base_uri": "https://localhost:8080/",
          "height": 248
        },
        "id": "e0KLs92LZzal",
        "outputId": "4b432456-9daf-4b1a-aa19-adb5d90b9356"
      },
      "source": [
        "# Pie Chart\n",
        "import matplotlib.pyplot as plt\n",
        "labels = ['negative', 'neutral', 'positive']\n",
        "sizes  = [ss['neg'], ss['neu'], ss['pos']]\n",
        "plt.pie(sizes, labels=labels, autopct='%1.1f%%')\n",
        "plt.axis('equal') \n",
        "plt.show()"
      ],
      "execution_count": null,
      "outputs": [
        {
          "output_type": "display_data",
          "data": {
            "image/png": "[encoded data removed]",
            "text/plain": [
              "<Figure size 432x288 with 1 Axes>"
            ]
          },
          "metadata": {
            "tags": []
          }
        }
      ]
    },
    {
      "cell_type": "code",
      "metadata": {
        "id": "KO2nqoJxZ3TY"
      },
      "source": [
        ""
      ],
      "execution_count": null,
      "outputs": []
    }
  ]
}